{
  "nbformat": 4,
  "nbformat_minor": 0,
  "metadata": {
    "colab": {
      "provenance": [],
      "collapsed_sections": [
        "9qrpRUJpno7L"
      ],
      "include_colab_link": true
    },
    "kernelspec": {
      "name": "python3",
      "display_name": "Python 3"
    },
    "language_info": {
      "name": "python"
    },
    "accelerator": "GPU",
    "gpuClass": "standard"
  },
  "cells": [
    {
      "cell_type": "markdown",
      "metadata": {
        "id": "view-in-github",
        "colab_type": "text"
      },
      "source": [
        "<a href=\"https://colab.research.google.com/github/Toncy/Hello-World/blob/master/%E2%80%9CStableDiffusionUI_Voldemort_V1_2_ipynb%E2%80%9D%E7%9A%84%E5%89%AF%E6%9C%AC.ipynb\" target=\"_parent\"><img src=\"https://colab.research.google.com/assets/colab-badge.svg\" alt=\"Open In Colab\"/></a>"
      ]
    },
    {
      "cell_type": "markdown",
      "source": [
        "Adapted from: https://colab.research.google.com/drive/1AfAmwLMd_Vx33O9IwY2TmO9wKZ8ABRRa"
      ],
      "metadata": {
        "id": "gfKvWAVnz8OB"
      }
    },
    {
      "cell_type": "code",
      "source": [
        "import os\n",
        "os.kill(os.getpid(), 9) # This will crash Colab (required, everything will still be intact so dont worry)"
      ],
      "metadata": {
        "id": "p8FI40sFj9tU"
      },
      "execution_count": null,
      "outputs": []
    },
    {
      "cell_type": "markdown",
      "source": [
        "Clone webui repository"
      ],
      "metadata": {
        "id": "OHCtG9MT0jLq"
      }
    },
    {
      "cell_type": "code",
      "source": [
        "!git clone https://github.com/AUTOMATIC1111/stable-diffusion-webui\n",
        "%cd stable-diffusion-webui"
      ],
      "metadata": {
        "id": "sBbcB4vwj_jm",
        "colab": {
          "base_uri": "https://localhost:8080/"
        },
        "outputId": "6443b161-fb26-490c-8c66-75d698206508"
      },
      "execution_count": null,
      "outputs": [
        {
          "output_type": "stream",
          "name": "stdout",
          "text": [
            "fatal: destination path 'stable-diffusion-webui' already exists and is not an empty directory.\n",
            "/content/stable-diffusion-webui\n"
          ]
        }
      ]
    },
    {
      "cell_type": "code",
      "source": [
        "from google.colab import drive\n",
        "drive.mount('/content/drive')"
      ],
      "metadata": {
        "id": "p0wVgJGeuiYI"
      },
      "execution_count": null,
      "outputs": []
    },
    {
      "cell_type": "code",
      "source": [
        "cp /content/drive/MyDrive/model/final-pruned.ckpt /content/stable-diffusion-webui/models/Stable-diffusion"
      ],
      "metadata": {
        "id": "nw7wi6VVvgKS"
      },
      "execution_count": null,
      "outputs": []
    },
    {
      "cell_type": "code",
      "source": [
        "cp /content/drive/MyDrive/model/final-pruned.vae.pt /content/stable-diffusion-webui/models/Stable-diffusion"
      ],
      "metadata": {
        "id": "yV8jz7ATwH2H"
      },
      "execution_count": null,
      "outputs": []
    },
    {
      "cell_type": "code",
      "source": [
        "cp -R /content/drive/MyDrive/model/hypernetworks /content/stable-diffusion-webui/models/"
      ],
      "metadata": {
        "id": "jTTef4FqxUUw"
      },
      "execution_count": null,
      "outputs": []
    },
    {
      "cell_type": "markdown",
      "source": [
        "Download the model from huggingface. See link at the start for different ways."
      ],
      "metadata": {
        "id": "F0EINk5M0s-w"
      }
    },
    {
      "cell_type": "code",
      "source": [
        "#@title Normal 1.4 model\n",
        "# get a token from https://huggingface.co/settings/tokens\n",
        "user_token = \"\" #@param {type:\"string\"}\n",
        "user_header = f\"\\\"Authorization: Bearer {user_token}\\\"\"\n",
        "!wget --header={user_header} https://huggingface.co/CompVis/stable-diffusion-v-1-4-original/resolve/main/sd-v1-4.ckpt -O /content/stable-diffusion-webui/model.ckpt"
      ],
      "metadata": {
        "id": "CT_J9L7oqLxG",
        "colab": {
          "base_uri": "https://localhost:8080/"
        },
        "outputId": "6b9c659f-8017-489e-c928-f33313bb6f14"
      },
      "execution_count": null,
      "outputs": [
        {
          "output_type": "stream",
          "name": "stdout",
          "text": [
            "--2022-10-09 08:14:22--  https://huggingface.co/CompVis/stable-diffusion-v-1-4-original/resolve/main/sd-v1-4.ckpt\n",
            "Resolving huggingface.co (huggingface.co)... 44.195.102.200, 54.210.225.113, 52.5.54.249, ...\n",
            "Connecting to huggingface.co (huggingface.co)|44.195.102.200|:443... connected.\n",
            "HTTP request sent, awaiting response... 401 Unauthorized\n",
            "\n",
            "Username/Password Authentication Failed.\n"
          ]
        }
      ]
    },
    {
      "cell_type": "markdown",
      "source": [
        "Voldy doesn't explian what this does but it appears to replace the prior dependencies section, saving a few lines lmao "
      ],
      "metadata": {
        "id": "v2kY0Z05DwIN"
      }
    },
    {
      "cell_type": "code",
      "source": [
        "!COMMANDLINE_ARGS=\"--exit\" REQS_FILE=\"requirements.txt\" python launch.py"
      ],
      "metadata": {
        "colab": {
          "base_uri": "https://localhost:8080/"
        },
        "id": "IB19TzabDtYF",
        "outputId": "1179d5ff-3b7c-45a4-d008-d554511a424e"
      },
      "execution_count": null,
      "outputs": [
        {
          "output_type": "stream",
          "name": "stdout",
          "text": [
            "Python 3.7.14 (default, Sep  8 2022, 00:06:44) \n",
            "[GCC 7.5.0]\n",
            "Commit hash: 1ffeb42d38d9276dc28918189d32f60d593a162c\n",
            "Installing requirements for Web UI\n",
            "Exiting because of --exit argument\n"
          ]
        }
      ]
    },
    {
      "cell_type": "markdown",
      "source": [
        "Change into Web UI directory and download updates"
      ],
      "metadata": {
        "id": "S8nvm5f6AfaL"
      }
    },
    {
      "cell_type": "code",
      "source": [
        "%cd stable-diffusion-webui\n",
        "!git pull"
      ],
      "metadata": {
        "id": "I1j4j2NfAQye",
        "colab": {
          "base_uri": "https://localhost:8080/"
        },
        "outputId": "a78027e6-416b-4ffa-9956-c3698d003248"
      },
      "execution_count": null,
      "outputs": [
        {
          "output_type": "stream",
          "name": "stdout",
          "text": [
            "[Errno 2] No such file or directory: 'stable-diffusion-webui'\n",
            "/content/stable-diffusion-webui\n",
            "remote: Enumerating objects: 16, done.\u001b[K\n",
            "remote: Counting objects: 100% (14/14), done.\u001b[K\n",
            "remote: Compressing objects: 100% (12/12), done.\u001b[K\n",
            "remote: Total 16 (delta 7), reused 3 (delta 2), pack-reused 2\u001b[K\n",
            "Unpacking objects: 100% (16/16), done.\n",
            "From https://github.com/AUTOMATIC1111/stable-diffusion-webui\n",
            "   1ffeb42..cbf6dad  master     -> origin/master\n",
            "Updating 1ffeb42..cbf6dad\n",
            "Fast-forward\n",
            " modules/scripts.py           | 32 \u001b[32m++++++++++++++++++++++++++++\u001b[m\u001b[31m----\u001b[m\n",
            " scripts/prompts_from_file.py |  4 \u001b[32m+++\u001b[m\u001b[31m-\u001b[m\n",
            " 2 files changed, 31 insertions(+), 5 deletions(-)\n"
          ]
        }
      ]
    },
    {
      "cell_type": "markdown",
      "source": [
        "Launch web ui. You will get a link to nnn.gradio.app, follow it.\n",
        "\n",
        "Commandline arguments are:\n",
        "  - `--share` - create online gradio.app link\n",
        "  - `--gradio-debug` - print outputs to console\n",
        "  - `--gradio-auth me:qwerty` - add authentication to gradio: username me, password qwerty"
      ],
      "metadata": {
        "id": "xt8lbdmC04ox"
      }
    },
    {
      "cell_type": "code",
      "source": [
        "!COMMANDLINE_ARGS=\"--share --gradio-debug --gradio-auth me:qwerty\" REQS_FILE=\"requirements.txt\" python launch.py"
      ],
      "metadata": {
        "id": "R-xAdMA5wxXd",
        "colab": {
          "base_uri": "https://localhost:8080/"
        },
        "outputId": "76b50b22-d0c4-4c84-c0c9-f58c14e406d2"
      },
      "execution_count": null,
      "outputs": [
        {
          "output_type": "stream",
          "name": "stdout",
          "text": [
            "Python 3.7.14 (default, Sep  8 2022, 00:06:44) \n",
            "[GCC 7.5.0]\n",
            "Commit hash: cbf6dad02d04d98e5a2d5e870777ab99b5796b2d\n",
            "Installing requirements for Web UI\n",
            "Launching Web UI with arguments: --share --gradio-debug --gradio-auth me:qwerty\n",
            "LatentDiffusion: Running in eps-prediction mode\n",
            "DiffusionWrapper has 859.52 M params.\n",
            "making attention of type 'vanilla' with 512 in_channels\n",
            "Working with z of shape (1, 4, 32, 32) = 4096 dimensions.\n",
            "making attention of type 'vanilla' with 512 in_channels\n",
            "Loading weights [e6e8e1fc] from /content/stable-diffusion-webui/models/Stable-diffusion/final-pruned.ckpt\n",
            "Loading VAE weights from: /content/stable-diffusion-webui/models/Stable-diffusion/final-pruned.vae.pt\n",
            "Applying cross attention optimization.\n",
            "Model loaded.\n",
            "Loading hypernetwork None\n",
            "Loaded a total of 0 textual inversion embeddings.\n",
            "Running on local URL:  http://127.0.0.1:7860\n",
            "Running on public URL: https://22617.gradio.app\n",
            "\n",
            "This share link expires in 72 hours. For free permanent hosting, check out Spaces: https://huggingface.co/spaces\n",
            "Error loading emedding .ipynb_checkpoints:\n",
            "Traceback (most recent call last):\n",
            "  File \"/content/stable-diffusion-webui/modules/textual_inversion/textual_inversion.py\", line 116, in load_textual_inversion_embeddings\n",
            "    process_file(fullfn, fn)\n",
            "  File \"/content/stable-diffusion-webui/modules/textual_inversion/textual_inversion.py\", line 83, in process_file\n",
            "    data = torch.load(path, map_location=\"cpu\")\n",
            "  File \"/usr/local/lib/python3.7/dist-packages/torch/serialization.py\", line 699, in load\n",
            "    with _open_file_like(f, 'rb') as opened_file:\n",
            "  File \"/usr/local/lib/python3.7/dist-packages/torch/serialization.py\", line 230, in _open_file_like\n",
            "    return _open_file(name_or_buffer, mode)\n",
            "  File \"/usr/local/lib/python3.7/dist-packages/torch/serialization.py\", line 211, in __init__\n",
            "    super(_open_file, self).__init__(open(name, mode))\n",
            "IsADirectoryError: [Errno 21] Is a directory: '/content/stable-diffusion-webui/embeddings/.ipynb_checkpoints'\n",
            "\n",
            "Loaded a total of 2 textual inversion embeddings.\n",
            "  0% 0/40 [00:00<?, ?it/s]\n",
            "  2% 1/40 [00:04<02:41,  4.13s/it]\n",
            "  5% 2/40 [00:04<01:24,  2.21s/it]\n",
            "  8% 3/40 [00:05<00:58,  1.59s/it]\n",
            " 10% 4/40 [00:06<00:47,  1.31s/it]\n",
            " 12% 5/40 [00:07<00:40,  1.14s/it]\n",
            " 15% 6/40 [00:08<00:35,  1.05s/it]\n",
            " 18% 7/40 [00:09<00:32,  1.01it/s]\n",
            " 20% 8/40 [00:10<00:30,  1.06it/s]\n",
            " 22% 9/40 [00:11<00:28,  1.08it/s]\n",
            " 25% 10/40 [00:11<00:27,  1.10it/s]\n",
            " 28% 11/40 [00:12<00:26,  1.11it/s]\n",
            " 30% 12/40 [00:13<00:24,  1.12it/s]\n",
            " 32% 13/40 [00:14<00:23,  1.13it/s]\n",
            " 35% 14/40 [00:15<00:22,  1.13it/s]\n",
            " 38% 15/40 [00:16<00:21,  1.14it/s]\n",
            " 40% 16/40 [00:17<00:21,  1.14it/s]\n",
            " 42% 17/40 [00:18<00:20,  1.14it/s]\n",
            " 45% 18/40 [00:18<00:19,  1.14it/s]\n",
            " 48% 19/40 [00:19<00:18,  1.14it/s]\n",
            " 50% 20/40 [00:20<00:17,  1.15it/s]\n",
            " 52% 21/40 [00:21<00:16,  1.15it/s]\n",
            " 55% 22/40 [00:22<00:15,  1.15it/s]\n",
            " 57% 23/40 [00:23<00:14,  1.15it/s]\n",
            " 60% 24/40 [00:24<00:13,  1.16it/s]\n",
            " 62% 25/40 [00:24<00:12,  1.17it/s]\n",
            " 65% 26/40 [00:25<00:11,  1.17it/s]\n",
            " 68% 27/40 [00:26<00:11,  1.18it/s]\n",
            " 70% 28/40 [00:27<00:10,  1.18it/s]\n",
            " 72% 29/40 [00:28<00:09,  1.18it/s]\n",
            " 75% 30/40 [00:29<00:08,  1.19it/s]\n",
            " 78% 31/40 [00:29<00:07,  1.19it/s]\n",
            " 80% 32/40 [00:30<00:06,  1.20it/s]"
          ]
        }
      ]
    },
    {
      "cell_type": "markdown",
      "source": [
        "commands for ***after*** you have gotten done with a session\n",
        "============================================================================"
      ],
      "metadata": {
        "id": "9qrpRUJpno7L"
      }
    },
    {
      "cell_type": "markdown",
      "source": [
        "Zip images for downloading on local drive (click the folder icon on the left, the one below {x})"
      ],
      "metadata": {
        "id": "zB-L8JpElKp-"
      }
    },
    {
      "cell_type": "code",
      "source": [
        "!zip -r /content/stable-diffusion-webui /content/stable-diffusion-webui/outputs "
      ],
      "metadata": {
        "id": "gBt5g_Dn0NFo"
      },
      "execution_count": null,
      "outputs": []
    },
    {
      "cell_type": "markdown",
      "source": [
        "Save images to Google Drive **Warning: this will cause google to scan your drive, so if you intend to use this and worry about that kind of stuff, probablly just set this up on a clean account that's just for this colab**"
      ],
      "metadata": {
        "id": "odNn2KF5lFmb"
      }
    },
    {
      "cell_type": "code",
      "source": [
        "from google.colab import drive # type: ignore\n",
        "\n",
        "try:\n",
        "   drive_path = \"/content/drive\"\n",
        "   drive.mount(drive_path,force_remount=False)\n",
        "except:\n",
        "   print(\"...error mounting drive or with drive path variables\")\n",
        "\n",
        "!cp -r \"/content/stable-diffusion-webui/outputs\" \"/content/drive/MyDrive\""
      ],
      "metadata": {
        "id": "zNEgJfbhDwI6"
      },
      "execution_count": null,
      "outputs": []
    }
  ]
}